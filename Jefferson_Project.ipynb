{
  "nbformat": 4,
  "nbformat_minor": 0,
  "metadata": {
    "colab": {
      "provenance": [],
      "authorship_tag": "ABX9TyPDaOQ5H5a8HQnYxYIkRYTE",
      "include_colab_link": true
    },
    "kernelspec": {
      "name": "ir",
      "display_name": "R"
    },
    "language_info": {
      "name": "R"
    }
  },
  "cells": [
    {
      "cell_type": "markdown",
      "metadata": {
        "id": "view-in-github",
        "colab_type": "text"
      },
      "source": [
        "<a href=\"https://colab.research.google.com/github/anirban-a/DataAnalyticsSpring2023_Anirban_Acharya/blob/main/Jefferson_Project.ipynb\" target=\"_parent\"><img src=\"https://colab.research.google.com/assets/colab-badge.svg\" alt=\"Open In Colab\"/></a>"
      ]
    },
    {
      "cell_type": "code",
      "execution_count": 55,
      "metadata": {
        "colab": {
          "base_uri": "https://localhost:8080/"
        },
        "id": "r0fyOrR_YdVS",
        "outputId": "63f5ca09-0a0a-4bae-f0c2-b10ff937cc75"
      },
      "outputs": [
        {
          "output_type": "stream",
          "name": "stderr",
          "text": [
            "\n",
            "Attaching package: ‘dplyr’\n",
            "\n",
            "\n",
            "The following objects are masked from ‘package:stats’:\n",
            "\n",
            "    filter, lag\n",
            "\n",
            "\n",
            "The following objects are masked from ‘package:base’:\n",
            "\n",
            "    intersect, setdiff, setequal, union\n",
            "\n",
            "\n"
          ]
        }
      ],
      "source": [
        "library(ggplot2)\n",
        "library(dplyr)"
      ]
    },
    {
      "cell_type": "code",
      "source": [
        "df <- read.csv('/content/2018_JP_VP_Level4.csv')"
      ],
      "metadata": {
        "id": "KgkgYeWkZKSN"
      },
      "execution_count": 3,
      "outputs": []
    },
    {
      "cell_type": "code",
      "source": [
        "# see number of columns:\n",
        "ncol(df)\n",
        "nrow(df)"
      ],
      "metadata": {
        "colab": {
          "base_uri": "https://localhost:8080/",
          "height": 52
        },
        "id": "UE9Uu7VrZlfk",
        "outputId": "d895f02e-f76d-4a40-98bc-c9039bc7519e"
      },
      "execution_count": 9,
      "outputs": [
        {
          "output_type": "display_data",
          "data": {
            "text/html": [
              "12"
            ],
            "text/markdown": "12",
            "text/latex": "12",
            "text/plain": [
              "[1] 12"
            ]
          },
          "metadata": {}
        },
        {
          "output_type": "display_data",
          "data": {
            "text/html": [
              "164646"
            ],
            "text/markdown": "164646",
            "text/latex": "164646",
            "text/plain": [
              "[1] 164646"
            ]
          },
          "metadata": {}
        }
      ]
    },
    {
      "cell_type": "code",
      "source": [
        "# see number of NA values.\n",
        "sum(is.na(df))"
      ],
      "metadata": {
        "colab": {
          "base_uri": "https://localhost:8080/",
          "height": 34
        },
        "id": "rabA-p4rZqpp",
        "outputId": "aeee43da-1c2c-4a9e-bbe2-60000a9a8aa1"
      },
      "execution_count": 6,
      "outputs": [
        {
          "output_type": "display_data",
          "data": {
            "text/html": [
              "478242"
            ],
            "text/markdown": "478242",
            "text/latex": "478242",
            "text/plain": [
              "[1] 478242"
            ]
          },
          "metadata": {}
        }
      ]
    },
    {
      "cell_type": "code",
      "source": [
        "df <- na.omit(df)"
      ],
      "metadata": {
        "id": "CvSoJ-5EZ_Ws"
      },
      "execution_count": 7,
      "outputs": []
    },
    {
      "cell_type": "code",
      "source": [
        "ncol(df)\n",
        "nrow(df)"
      ],
      "metadata": {
        "colab": {
          "base_uri": "https://localhost:8080/",
          "height": 52
        },
        "id": "T8uK0F6rgBGf",
        "outputId": "01239afc-889c-494c-bc5b-eb7207dc4db6"
      },
      "execution_count": 11,
      "outputs": [
        {
          "output_type": "display_data",
          "data": {
            "text/html": [
              "12"
            ],
            "text/markdown": "12",
            "text/latex": "12",
            "text/plain": [
              "[1] 12"
            ]
          },
          "metadata": {}
        },
        {
          "output_type": "display_data",
          "data": {
            "text/html": [
              "164646"
            ],
            "text/markdown": "164646",
            "text/latex": "164646",
            "text/plain": [
              "[1] 164646"
            ]
          },
          "metadata": {}
        }
      ]
    },
    {
      "cell_type": "code",
      "source": [
        "# see number of NA values.\n",
        "sum(is.na(df))"
      ],
      "metadata": {
        "colab": {
          "base_uri": "https://localhost:8080/",
          "height": 34
        },
        "id": "D2xKyy0xgCs0",
        "outputId": "33c05040-38af-4de1-cdc3-6ca8327b8618"
      },
      "execution_count": 12,
      "outputs": [
        {
          "output_type": "display_data",
          "data": {
            "text/html": [
              "0"
            ],
            "text/markdown": "0",
            "text/latex": "0",
            "text/plain": [
              "[1] 0"
            ]
          },
          "metadata": {}
        }
      ]
    },
    {
      "cell_type": "code",
      "source": [
        "head(df)"
      ],
      "metadata": {
        "colab": {
          "base_uri": "https://localhost:8080/",
          "height": 515
        },
        "id": "C7_IfYTlgOHy",
        "outputId": "b117e99f-feb4-477c-d802-d7ec364a5c03"
      },
      "execution_count": 13,
      "outputs": [
        {
          "output_type": "display_data",
          "data": {
            "text/html": [
              "<table class=\"dataframe\">\n",
              "<caption>A data.frame: 6 × 12</caption>\n",
              "<thead>\n",
              "\t<tr><th></th><th scope=col>DateTime</th><th scope=col>Site_Name</th><th scope=col>Chla_Water_EXO</th><th scope=col>SensorDepth_Water_EXO</th><th scope=col>DO_Water_EXO</th><th scope=col>DO.Sat_Water_EXO</th><th scope=col>SpCond_Water_EXO</th><th scope=col>Temperature_Water_EXO</th><th scope=col>Turbidity_Water_EXO</th><th scope=col>pH_Water_EXO</th><th scope=col>PC_Water_EXO</th><th scope=col>fDOM_Water_EXO</th></tr>\n",
              "\t<tr><th></th><th scope=col>&lt;chr&gt;</th><th scope=col>&lt;chr&gt;</th><th scope=col>&lt;dbl&gt;</th><th scope=col>&lt;dbl&gt;</th><th scope=col>&lt;dbl&gt;</th><th scope=col>&lt;dbl&gt;</th><th scope=col>&lt;dbl&gt;</th><th scope=col>&lt;dbl&gt;</th><th scope=col>&lt;dbl&gt;</th><th scope=col>&lt;dbl&gt;</th><th scope=col>&lt;dbl&gt;</th><th scope=col>&lt;dbl&gt;</th></tr>\n",
              "</thead>\n",
              "<tbody>\n",
              "\t<tr><th scope=row>675</th><td>2018-05-14 16:07:00</td><td>VP_AnthonysNose</td><td>0.198</td><td>0.99</td><td>12.53</td><td>108.84</td><td>138.63</td><td>9.12</td><td>0.51</td><td>7.630000</td><td>0.1514716</td><td>1.030458</td></tr>\n",
              "\t<tr><th scope=row>676</th><td>2018-05-14 16:08:00</td><td>VP_AnthonysNose</td><td>0.099</td><td>1.80</td><td>12.53</td><td>108.75</td><td>138.62</td><td>9.12</td><td>0.49</td><td>7.629989</td><td>0.1514716</td><td>1.066934</td></tr>\n",
              "\t<tr><th scope=row>677</th><td>2018-05-14 16:09:00</td><td>VP_AnthonysNose</td><td>0.072</td><td>3.04</td><td>12.54</td><td>108.85</td><td>138.54</td><td>9.12</td><td>0.53</td><td>7.629978</td><td>0.1714021</td><td>1.021339</td></tr>\n",
              "\t<tr><th scope=row>678</th><td>2018-05-14 16:10:00</td><td>VP_AnthonysNose</td><td>0.180</td><td>3.83</td><td>12.54</td><td>108.83</td><td>138.50</td><td>9.11</td><td>0.54</td><td>7.629967</td><td>0.1713567</td><td>1.057743</td></tr>\n",
              "\t<tr><th scope=row>680</th><td>2018-05-14 16:12:00</td><td>VP_AnthonysNose</td><td>0.324</td><td>4.83</td><td>12.55</td><td>108.80</td><td>138.45</td><td>9.07</td><td>0.51</td><td>7.629945</td><td>0.1612234</td><td>1.020990</td></tr>\n",
              "\t<tr><th scope=row>681</th><td>2018-05-14 16:13:00</td><td>VP_AnthonysNose</td><td>0.279</td><td>5.91</td><td>12.53</td><td>108.74</td><td>138.48</td><td>9.11</td><td>0.51</td><td>7.629934</td><td>0.1713567</td><td>1.066861</td></tr>\n",
              "</tbody>\n",
              "</table>\n"
            ],
            "text/markdown": "\nA data.frame: 6 × 12\n\n| <!--/--> | DateTime &lt;chr&gt; | Site_Name &lt;chr&gt; | Chla_Water_EXO &lt;dbl&gt; | SensorDepth_Water_EXO &lt;dbl&gt; | DO_Water_EXO &lt;dbl&gt; | DO.Sat_Water_EXO &lt;dbl&gt; | SpCond_Water_EXO &lt;dbl&gt; | Temperature_Water_EXO &lt;dbl&gt; | Turbidity_Water_EXO &lt;dbl&gt; | pH_Water_EXO &lt;dbl&gt; | PC_Water_EXO &lt;dbl&gt; | fDOM_Water_EXO &lt;dbl&gt; |\n|---|---|---|---|---|---|---|---|---|---|---|---|---|\n| 675 | 2018-05-14 16:07:00 | VP_AnthonysNose | 0.198 | 0.99 | 12.53 | 108.84 | 138.63 | 9.12 | 0.51 | 7.630000 | 0.1514716 | 1.030458 |\n| 676 | 2018-05-14 16:08:00 | VP_AnthonysNose | 0.099 | 1.80 | 12.53 | 108.75 | 138.62 | 9.12 | 0.49 | 7.629989 | 0.1514716 | 1.066934 |\n| 677 | 2018-05-14 16:09:00 | VP_AnthonysNose | 0.072 | 3.04 | 12.54 | 108.85 | 138.54 | 9.12 | 0.53 | 7.629978 | 0.1714021 | 1.021339 |\n| 678 | 2018-05-14 16:10:00 | VP_AnthonysNose | 0.180 | 3.83 | 12.54 | 108.83 | 138.50 | 9.11 | 0.54 | 7.629967 | 0.1713567 | 1.057743 |\n| 680 | 2018-05-14 16:12:00 | VP_AnthonysNose | 0.324 | 4.83 | 12.55 | 108.80 | 138.45 | 9.07 | 0.51 | 7.629945 | 0.1612234 | 1.020990 |\n| 681 | 2018-05-14 16:13:00 | VP_AnthonysNose | 0.279 | 5.91 | 12.53 | 108.74 | 138.48 | 9.11 | 0.51 | 7.629934 | 0.1713567 | 1.066861 |\n\n",
            "text/latex": "A data.frame: 6 × 12\n\\begin{tabular}{r|llllllllllll}\n  & DateTime & Site\\_Name & Chla\\_Water\\_EXO & SensorDepth\\_Water\\_EXO & DO\\_Water\\_EXO & DO.Sat\\_Water\\_EXO & SpCond\\_Water\\_EXO & Temperature\\_Water\\_EXO & Turbidity\\_Water\\_EXO & pH\\_Water\\_EXO & PC\\_Water\\_EXO & fDOM\\_Water\\_EXO\\\\\n  & <chr> & <chr> & <dbl> & <dbl> & <dbl> & <dbl> & <dbl> & <dbl> & <dbl> & <dbl> & <dbl> & <dbl>\\\\\n\\hline\n\t675 & 2018-05-14 16:07:00 & VP\\_AnthonysNose & 0.198 & 0.99 & 12.53 & 108.84 & 138.63 & 9.12 & 0.51 & 7.630000 & 0.1514716 & 1.030458\\\\\n\t676 & 2018-05-14 16:08:00 & VP\\_AnthonysNose & 0.099 & 1.80 & 12.53 & 108.75 & 138.62 & 9.12 & 0.49 & 7.629989 & 0.1514716 & 1.066934\\\\\n\t677 & 2018-05-14 16:09:00 & VP\\_AnthonysNose & 0.072 & 3.04 & 12.54 & 108.85 & 138.54 & 9.12 & 0.53 & 7.629978 & 0.1714021 & 1.021339\\\\\n\t678 & 2018-05-14 16:10:00 & VP\\_AnthonysNose & 0.180 & 3.83 & 12.54 & 108.83 & 138.50 & 9.11 & 0.54 & 7.629967 & 0.1713567 & 1.057743\\\\\n\t680 & 2018-05-14 16:12:00 & VP\\_AnthonysNose & 0.324 & 4.83 & 12.55 & 108.80 & 138.45 & 9.07 & 0.51 & 7.629945 & 0.1612234 & 1.020990\\\\\n\t681 & 2018-05-14 16:13:00 & VP\\_AnthonysNose & 0.279 & 5.91 & 12.53 & 108.74 & 138.48 & 9.11 & 0.51 & 7.629934 & 0.1713567 & 1.066861\\\\\n\\end{tabular}\n",
            "text/plain": [
              "    DateTime            Site_Name       Chla_Water_EXO SensorDepth_Water_EXO\n",
              "675 2018-05-14 16:07:00 VP_AnthonysNose 0.198          0.99                 \n",
              "676 2018-05-14 16:08:00 VP_AnthonysNose 0.099          1.80                 \n",
              "677 2018-05-14 16:09:00 VP_AnthonysNose 0.072          3.04                 \n",
              "678 2018-05-14 16:10:00 VP_AnthonysNose 0.180          3.83                 \n",
              "680 2018-05-14 16:12:00 VP_AnthonysNose 0.324          4.83                 \n",
              "681 2018-05-14 16:13:00 VP_AnthonysNose 0.279          5.91                 \n",
              "    DO_Water_EXO DO.Sat_Water_EXO SpCond_Water_EXO Temperature_Water_EXO\n",
              "675 12.53        108.84           138.63           9.12                 \n",
              "676 12.53        108.75           138.62           9.12                 \n",
              "677 12.54        108.85           138.54           9.12                 \n",
              "678 12.54        108.83           138.50           9.11                 \n",
              "680 12.55        108.80           138.45           9.07                 \n",
              "681 12.53        108.74           138.48           9.11                 \n",
              "    Turbidity_Water_EXO pH_Water_EXO PC_Water_EXO fDOM_Water_EXO\n",
              "675 0.51                7.630000     0.1514716    1.030458      \n",
              "676 0.49                7.629989     0.1514716    1.066934      \n",
              "677 0.53                7.629978     0.1714021    1.021339      \n",
              "678 0.54                7.629967     0.1713567    1.057743      \n",
              "680 0.51                7.629945     0.1612234    1.020990      \n",
              "681 0.51                7.629934     0.1713567    1.066861      "
            ]
          },
          "metadata": {}
        }
      ]
    },
    {
      "cell_type": "markdown",
      "source": [
        "## Create a Dataframe of correlations between each numerical variables."
      ],
      "metadata": {
        "id": "acO7QMN6pg-D"
      }
    },
    {
      "cell_type": "code",
      "source": [
        "colx <- c()\n",
        "coly <- c()\n",
        "correlation <- c()\n",
        "\n",
        "for(i in 3:(length(cols)-1)){\n",
        "  for(j in (i+1):length(cols)){\n",
        "    colx <- append(colx, cols[(i-2)])\n",
        "    coly <- append(coly, cols[(j-2)])\n",
        "    correlation <- append(correlation, cor(df[, i], df[, j]))\n",
        "  }\n",
        "}\n",
        "\n",
        "correlations <- data.frame(colx, coly, correlation)"
      ],
      "metadata": {
        "id": "SvpvJATcirlq"
      },
      "execution_count": 53,
      "outputs": []
    },
    {
      "cell_type": "markdown",
      "source": [
        "### Let's look into the correlations:"
      ],
      "metadata": {
        "id": "r7DHKMkHp41T"
      }
    },
    {
      "cell_type": "code",
      "source": [
        "\n",
        "correlations"
      ],
      "metadata": {
        "colab": {
          "base_uri": "https://localhost:8080/",
          "height": 976
        },
        "id": "WjfZ8L07kEqg",
        "outputId": "ba838c93-5ae1-4b38-b4ea-a063972eb81f"
      },
      "execution_count": 54,
      "outputs": [
        {
          "output_type": "display_data",
          "data": {
            "text/html": [
              "<table class=\"dataframe\">\n",
              "<caption>A data.frame: 28 × 3</caption>\n",
              "<thead>\n",
              "\t<tr><th scope=col>colx</th><th scope=col>coly</th><th scope=col>correlation</th></tr>\n",
              "\t<tr><th scope=col>&lt;chr&gt;</th><th scope=col>&lt;chr&gt;</th><th scope=col>&lt;dbl&gt;</th></tr>\n",
              "</thead>\n",
              "<tbody>\n",
              "\t<tr><td>Chla_Water_EXO       </td><td>SensorDepth_Water_EXO</td><td>-0.217278879</td></tr>\n",
              "\t<tr><td>Chla_Water_EXO       </td><td>DO_Water_EXO         </td><td> 0.472471893</td></tr>\n",
              "\t<tr><td>Chla_Water_EXO       </td><td>DO.Sat_Water_EXO     </td><td> 0.346567623</td></tr>\n",
              "\t<tr><td>Chla_Water_EXO       </td><td>SpCond_Water_EXO     </td><td> 0.482357810</td></tr>\n",
              "\t<tr><td>Chla_Water_EXO       </td><td>Temperature_Water_EXO</td><td>-0.176867517</td></tr>\n",
              "\t<tr><td>Chla_Water_EXO       </td><td>Turbidity_Water_EXO  </td><td> 0.544613363</td></tr>\n",
              "\t<tr><td>Chla_Water_EXO       </td><td>pH_Water_EXO         </td><td> 0.171425854</td></tr>\n",
              "\t<tr><td>SensorDepth_Water_EXO</td><td>DO_Water_EXO         </td><td>-0.009118491</td></tr>\n",
              "\t<tr><td>SensorDepth_Water_EXO</td><td>DO.Sat_Water_EXO     </td><td>-0.585003393</td></tr>\n",
              "\t<tr><td>SensorDepth_Water_EXO</td><td>SpCond_Water_EXO     </td><td>-0.483456456</td></tr>\n",
              "\t<tr><td>SensorDepth_Water_EXO</td><td>Temperature_Water_EXO</td><td>-0.756599152</td></tr>\n",
              "\t<tr><td>SensorDepth_Water_EXO</td><td>Turbidity_Water_EXO  </td><td> 0.080498272</td></tr>\n",
              "\t<tr><td>SensorDepth_Water_EXO</td><td>pH_Water_EXO         </td><td>-0.777385940</td></tr>\n",
              "\t<tr><td>DO_Water_EXO         </td><td>DO.Sat_Water_EXO     </td><td> 0.721911432</td></tr>\n",
              "\t<tr><td>DO_Water_EXO         </td><td>SpCond_Water_EXO     </td><td> 0.159936930</td></tr>\n",
              "\t<tr><td>DO_Water_EXO         </td><td>Temperature_Water_EXO</td><td>-0.384018334</td></tr>\n",
              "\t<tr><td>DO_Water_EXO         </td><td>Turbidity_Water_EXO  </td><td> 0.412185202</td></tr>\n",
              "\t<tr><td>DO_Water_EXO         </td><td>pH_Water_EXO         </td><td> 0.213031874</td></tr>\n",
              "\t<tr><td>DO.Sat_Water_EXO     </td><td>SpCond_Water_EXO     </td><td> 0.355133357</td></tr>\n",
              "\t<tr><td>DO.Sat_Water_EXO     </td><td>Temperature_Water_EXO</td><td> 0.356143841</td></tr>\n",
              "\t<tr><td>DO.Sat_Water_EXO     </td><td>Turbidity_Water_EXO  </td><td> 0.095887556</td></tr>\n",
              "\t<tr><td>DO.Sat_Water_EXO     </td><td>pH_Water_EXO         </td><td> 0.744873538</td></tr>\n",
              "\t<tr><td>SpCond_Water_EXO     </td><td>Temperature_Water_EXO</td><td> 0.253772516</td></tr>\n",
              "\t<tr><td>SpCond_Water_EXO     </td><td>Turbidity_Water_EXO  </td><td> 0.542918101</td></tr>\n",
              "\t<tr><td>SpCond_Water_EXO     </td><td>pH_Water_EXO         </td><td> 0.249633034</td></tr>\n",
              "\t<tr><td>Temperature_Water_EXO</td><td>Turbidity_Water_EXO  </td><td>-0.453452447</td></tr>\n",
              "\t<tr><td>Temperature_Water_EXO</td><td>pH_Water_EXO         </td><td> 0.699138087</td></tr>\n",
              "\t<tr><td>Turbidity_Water_EXO  </td><td>pH_Water_EXO         </td><td>-0.264839711</td></tr>\n",
              "</tbody>\n",
              "</table>\n"
            ],
            "text/markdown": "\nA data.frame: 28 × 3\n\n| colx &lt;chr&gt; | coly &lt;chr&gt; | correlation &lt;dbl&gt; |\n|---|---|---|\n| Chla_Water_EXO        | SensorDepth_Water_EXO | -0.217278879 |\n| Chla_Water_EXO        | DO_Water_EXO          |  0.472471893 |\n| Chla_Water_EXO        | DO.Sat_Water_EXO      |  0.346567623 |\n| Chla_Water_EXO        | SpCond_Water_EXO      |  0.482357810 |\n| Chla_Water_EXO        | Temperature_Water_EXO | -0.176867517 |\n| Chla_Water_EXO        | Turbidity_Water_EXO   |  0.544613363 |\n| Chla_Water_EXO        | pH_Water_EXO          |  0.171425854 |\n| SensorDepth_Water_EXO | DO_Water_EXO          | -0.009118491 |\n| SensorDepth_Water_EXO | DO.Sat_Water_EXO      | -0.585003393 |\n| SensorDepth_Water_EXO | SpCond_Water_EXO      | -0.483456456 |\n| SensorDepth_Water_EXO | Temperature_Water_EXO | -0.756599152 |\n| SensorDepth_Water_EXO | Turbidity_Water_EXO   |  0.080498272 |\n| SensorDepth_Water_EXO | pH_Water_EXO          | -0.777385940 |\n| DO_Water_EXO          | DO.Sat_Water_EXO      |  0.721911432 |\n| DO_Water_EXO          | SpCond_Water_EXO      |  0.159936930 |\n| DO_Water_EXO          | Temperature_Water_EXO | -0.384018334 |\n| DO_Water_EXO          | Turbidity_Water_EXO   |  0.412185202 |\n| DO_Water_EXO          | pH_Water_EXO          |  0.213031874 |\n| DO.Sat_Water_EXO      | SpCond_Water_EXO      |  0.355133357 |\n| DO.Sat_Water_EXO      | Temperature_Water_EXO |  0.356143841 |\n| DO.Sat_Water_EXO      | Turbidity_Water_EXO   |  0.095887556 |\n| DO.Sat_Water_EXO      | pH_Water_EXO          |  0.744873538 |\n| SpCond_Water_EXO      | Temperature_Water_EXO |  0.253772516 |\n| SpCond_Water_EXO      | Turbidity_Water_EXO   |  0.542918101 |\n| SpCond_Water_EXO      | pH_Water_EXO          |  0.249633034 |\n| Temperature_Water_EXO | Turbidity_Water_EXO   | -0.453452447 |\n| Temperature_Water_EXO | pH_Water_EXO          |  0.699138087 |\n| Turbidity_Water_EXO   | pH_Water_EXO          | -0.264839711 |\n\n",
            "text/latex": "A data.frame: 28 × 3\n\\begin{tabular}{lll}\n colx & coly & correlation\\\\\n <chr> & <chr> & <dbl>\\\\\n\\hline\n\t Chla\\_Water\\_EXO        & SensorDepth\\_Water\\_EXO & -0.217278879\\\\\n\t Chla\\_Water\\_EXO        & DO\\_Water\\_EXO          &  0.472471893\\\\\n\t Chla\\_Water\\_EXO        & DO.Sat\\_Water\\_EXO      &  0.346567623\\\\\n\t Chla\\_Water\\_EXO        & SpCond\\_Water\\_EXO      &  0.482357810\\\\\n\t Chla\\_Water\\_EXO        & Temperature\\_Water\\_EXO & -0.176867517\\\\\n\t Chla\\_Water\\_EXO        & Turbidity\\_Water\\_EXO   &  0.544613363\\\\\n\t Chla\\_Water\\_EXO        & pH\\_Water\\_EXO          &  0.171425854\\\\\n\t SensorDepth\\_Water\\_EXO & DO\\_Water\\_EXO          & -0.009118491\\\\\n\t SensorDepth\\_Water\\_EXO & DO.Sat\\_Water\\_EXO      & -0.585003393\\\\\n\t SensorDepth\\_Water\\_EXO & SpCond\\_Water\\_EXO      & -0.483456456\\\\\n\t SensorDepth\\_Water\\_EXO & Temperature\\_Water\\_EXO & -0.756599152\\\\\n\t SensorDepth\\_Water\\_EXO & Turbidity\\_Water\\_EXO   &  0.080498272\\\\\n\t SensorDepth\\_Water\\_EXO & pH\\_Water\\_EXO          & -0.777385940\\\\\n\t DO\\_Water\\_EXO          & DO.Sat\\_Water\\_EXO      &  0.721911432\\\\\n\t DO\\_Water\\_EXO          & SpCond\\_Water\\_EXO      &  0.159936930\\\\\n\t DO\\_Water\\_EXO          & Temperature\\_Water\\_EXO & -0.384018334\\\\\n\t DO\\_Water\\_EXO          & Turbidity\\_Water\\_EXO   &  0.412185202\\\\\n\t DO\\_Water\\_EXO          & pH\\_Water\\_EXO          &  0.213031874\\\\\n\t DO.Sat\\_Water\\_EXO      & SpCond\\_Water\\_EXO      &  0.355133357\\\\\n\t DO.Sat\\_Water\\_EXO      & Temperature\\_Water\\_EXO &  0.356143841\\\\\n\t DO.Sat\\_Water\\_EXO      & Turbidity\\_Water\\_EXO   &  0.095887556\\\\\n\t DO.Sat\\_Water\\_EXO      & pH\\_Water\\_EXO          &  0.744873538\\\\\n\t SpCond\\_Water\\_EXO      & Temperature\\_Water\\_EXO &  0.253772516\\\\\n\t SpCond\\_Water\\_EXO      & Turbidity\\_Water\\_EXO   &  0.542918101\\\\\n\t SpCond\\_Water\\_EXO      & pH\\_Water\\_EXO          &  0.249633034\\\\\n\t Temperature\\_Water\\_EXO & Turbidity\\_Water\\_EXO   & -0.453452447\\\\\n\t Temperature\\_Water\\_EXO & pH\\_Water\\_EXO          &  0.699138087\\\\\n\t Turbidity\\_Water\\_EXO   & pH\\_Water\\_EXO          & -0.264839711\\\\\n\\end{tabular}\n",
            "text/plain": [
              "   colx                  coly                  correlation \n",
              "1  Chla_Water_EXO        SensorDepth_Water_EXO -0.217278879\n",
              "2  Chla_Water_EXO        DO_Water_EXO           0.472471893\n",
              "3  Chla_Water_EXO        DO.Sat_Water_EXO       0.346567623\n",
              "4  Chla_Water_EXO        SpCond_Water_EXO       0.482357810\n",
              "5  Chla_Water_EXO        Temperature_Water_EXO -0.176867517\n",
              "6  Chla_Water_EXO        Turbidity_Water_EXO    0.544613363\n",
              "7  Chla_Water_EXO        pH_Water_EXO           0.171425854\n",
              "8  SensorDepth_Water_EXO DO_Water_EXO          -0.009118491\n",
              "9  SensorDepth_Water_EXO DO.Sat_Water_EXO      -0.585003393\n",
              "10 SensorDepth_Water_EXO SpCond_Water_EXO      -0.483456456\n",
              "11 SensorDepth_Water_EXO Temperature_Water_EXO -0.756599152\n",
              "12 SensorDepth_Water_EXO Turbidity_Water_EXO    0.080498272\n",
              "13 SensorDepth_Water_EXO pH_Water_EXO          -0.777385940\n",
              "14 DO_Water_EXO          DO.Sat_Water_EXO       0.721911432\n",
              "15 DO_Water_EXO          SpCond_Water_EXO       0.159936930\n",
              "16 DO_Water_EXO          Temperature_Water_EXO -0.384018334\n",
              "17 DO_Water_EXO          Turbidity_Water_EXO    0.412185202\n",
              "18 DO_Water_EXO          pH_Water_EXO           0.213031874\n",
              "19 DO.Sat_Water_EXO      SpCond_Water_EXO       0.355133357\n",
              "20 DO.Sat_Water_EXO      Temperature_Water_EXO  0.356143841\n",
              "21 DO.Sat_Water_EXO      Turbidity_Water_EXO    0.095887556\n",
              "22 DO.Sat_Water_EXO      pH_Water_EXO           0.744873538\n",
              "23 SpCond_Water_EXO      Temperature_Water_EXO  0.253772516\n",
              "24 SpCond_Water_EXO      Turbidity_Water_EXO    0.542918101\n",
              "25 SpCond_Water_EXO      pH_Water_EXO           0.249633034\n",
              "26 Temperature_Water_EXO Turbidity_Water_EXO   -0.453452447\n",
              "27 Temperature_Water_EXO pH_Water_EXO           0.699138087\n",
              "28 Turbidity_Water_EXO   pH_Water_EXO          -0.264839711"
            ]
          },
          "metadata": {}
        }
      ]
    },
    {
      "cell_type": "markdown",
      "source": [
        "### Variables having positive correlations in descending order."
      ],
      "metadata": {
        "id": "j96_bDTmq18t"
      }
    },
    {
      "cell_type": "code",
      "source": [
        "correlations |> filter(correlation>0)|>arrange(desc(correlation))"
      ],
      "metadata": {
        "colab": {
          "base_uri": "https://localhost:8080/",
          "height": 663
        },
        "id": "-hJ-aU08pS_v",
        "outputId": "ad608e42-e020-4d1c-c1f1-8ef48444c074"
      },
      "execution_count": 61,
      "outputs": [
        {
          "output_type": "display_data",
          "data": {
            "text/html": [
              "<table class=\"dataframe\">\n",
              "<caption>A data.frame: 18 × 3</caption>\n",
              "<thead>\n",
              "\t<tr><th scope=col>colx</th><th scope=col>coly</th><th scope=col>correlation</th></tr>\n",
              "\t<tr><th scope=col>&lt;chr&gt;</th><th scope=col>&lt;chr&gt;</th><th scope=col>&lt;dbl&gt;</th></tr>\n",
              "</thead>\n",
              "<tbody>\n",
              "\t<tr><td>DO.Sat_Water_EXO     </td><td>pH_Water_EXO         </td><td>0.74487354</td></tr>\n",
              "\t<tr><td>DO_Water_EXO         </td><td>DO.Sat_Water_EXO     </td><td>0.72191143</td></tr>\n",
              "\t<tr><td>Temperature_Water_EXO</td><td>pH_Water_EXO         </td><td>0.69913809</td></tr>\n",
              "\t<tr><td>Chla_Water_EXO       </td><td>Turbidity_Water_EXO  </td><td>0.54461336</td></tr>\n",
              "\t<tr><td>SpCond_Water_EXO     </td><td>Turbidity_Water_EXO  </td><td>0.54291810</td></tr>\n",
              "\t<tr><td>Chla_Water_EXO       </td><td>SpCond_Water_EXO     </td><td>0.48235781</td></tr>\n",
              "\t<tr><td>Chla_Water_EXO       </td><td>DO_Water_EXO         </td><td>0.47247189</td></tr>\n",
              "\t<tr><td>DO_Water_EXO         </td><td>Turbidity_Water_EXO  </td><td>0.41218520</td></tr>\n",
              "\t<tr><td>DO.Sat_Water_EXO     </td><td>Temperature_Water_EXO</td><td>0.35614384</td></tr>\n",
              "\t<tr><td>DO.Sat_Water_EXO     </td><td>SpCond_Water_EXO     </td><td>0.35513336</td></tr>\n",
              "\t<tr><td>Chla_Water_EXO       </td><td>DO.Sat_Water_EXO     </td><td>0.34656762</td></tr>\n",
              "\t<tr><td>SpCond_Water_EXO     </td><td>Temperature_Water_EXO</td><td>0.25377252</td></tr>\n",
              "\t<tr><td>SpCond_Water_EXO     </td><td>pH_Water_EXO         </td><td>0.24963303</td></tr>\n",
              "\t<tr><td>DO_Water_EXO         </td><td>pH_Water_EXO         </td><td>0.21303187</td></tr>\n",
              "\t<tr><td>Chla_Water_EXO       </td><td>pH_Water_EXO         </td><td>0.17142585</td></tr>\n",
              "\t<tr><td>DO_Water_EXO         </td><td>SpCond_Water_EXO     </td><td>0.15993693</td></tr>\n",
              "\t<tr><td>DO.Sat_Water_EXO     </td><td>Turbidity_Water_EXO  </td><td>0.09588756</td></tr>\n",
              "\t<tr><td>SensorDepth_Water_EXO</td><td>Turbidity_Water_EXO  </td><td>0.08049827</td></tr>\n",
              "</tbody>\n",
              "</table>\n"
            ],
            "text/markdown": "\nA data.frame: 18 × 3\n\n| colx &lt;chr&gt; | coly &lt;chr&gt; | correlation &lt;dbl&gt; |\n|---|---|---|\n| DO.Sat_Water_EXO      | pH_Water_EXO          | 0.74487354 |\n| DO_Water_EXO          | DO.Sat_Water_EXO      | 0.72191143 |\n| Temperature_Water_EXO | pH_Water_EXO          | 0.69913809 |\n| Chla_Water_EXO        | Turbidity_Water_EXO   | 0.54461336 |\n| SpCond_Water_EXO      | Turbidity_Water_EXO   | 0.54291810 |\n| Chla_Water_EXO        | SpCond_Water_EXO      | 0.48235781 |\n| Chla_Water_EXO        | DO_Water_EXO          | 0.47247189 |\n| DO_Water_EXO          | Turbidity_Water_EXO   | 0.41218520 |\n| DO.Sat_Water_EXO      | Temperature_Water_EXO | 0.35614384 |\n| DO.Sat_Water_EXO      | SpCond_Water_EXO      | 0.35513336 |\n| Chla_Water_EXO        | DO.Sat_Water_EXO      | 0.34656762 |\n| SpCond_Water_EXO      | Temperature_Water_EXO | 0.25377252 |\n| SpCond_Water_EXO      | pH_Water_EXO          | 0.24963303 |\n| DO_Water_EXO          | pH_Water_EXO          | 0.21303187 |\n| Chla_Water_EXO        | pH_Water_EXO          | 0.17142585 |\n| DO_Water_EXO          | SpCond_Water_EXO      | 0.15993693 |\n| DO.Sat_Water_EXO      | Turbidity_Water_EXO   | 0.09588756 |\n| SensorDepth_Water_EXO | Turbidity_Water_EXO   | 0.08049827 |\n\n",
            "text/latex": "A data.frame: 18 × 3\n\\begin{tabular}{lll}\n colx & coly & correlation\\\\\n <chr> & <chr> & <dbl>\\\\\n\\hline\n\t DO.Sat\\_Water\\_EXO      & pH\\_Water\\_EXO          & 0.74487354\\\\\n\t DO\\_Water\\_EXO          & DO.Sat\\_Water\\_EXO      & 0.72191143\\\\\n\t Temperature\\_Water\\_EXO & pH\\_Water\\_EXO          & 0.69913809\\\\\n\t Chla\\_Water\\_EXO        & Turbidity\\_Water\\_EXO   & 0.54461336\\\\\n\t SpCond\\_Water\\_EXO      & Turbidity\\_Water\\_EXO   & 0.54291810\\\\\n\t Chla\\_Water\\_EXO        & SpCond\\_Water\\_EXO      & 0.48235781\\\\\n\t Chla\\_Water\\_EXO        & DO\\_Water\\_EXO          & 0.47247189\\\\\n\t DO\\_Water\\_EXO          & Turbidity\\_Water\\_EXO   & 0.41218520\\\\\n\t DO.Sat\\_Water\\_EXO      & Temperature\\_Water\\_EXO & 0.35614384\\\\\n\t DO.Sat\\_Water\\_EXO      & SpCond\\_Water\\_EXO      & 0.35513336\\\\\n\t Chla\\_Water\\_EXO        & DO.Sat\\_Water\\_EXO      & 0.34656762\\\\\n\t SpCond\\_Water\\_EXO      & Temperature\\_Water\\_EXO & 0.25377252\\\\\n\t SpCond\\_Water\\_EXO      & pH\\_Water\\_EXO          & 0.24963303\\\\\n\t DO\\_Water\\_EXO          & pH\\_Water\\_EXO          & 0.21303187\\\\\n\t Chla\\_Water\\_EXO        & pH\\_Water\\_EXO          & 0.17142585\\\\\n\t DO\\_Water\\_EXO          & SpCond\\_Water\\_EXO      & 0.15993693\\\\\n\t DO.Sat\\_Water\\_EXO      & Turbidity\\_Water\\_EXO   & 0.09588756\\\\\n\t SensorDepth\\_Water\\_EXO & Turbidity\\_Water\\_EXO   & 0.08049827\\\\\n\\end{tabular}\n",
            "text/plain": [
              "   colx                  coly                  correlation\n",
              "1  DO.Sat_Water_EXO      pH_Water_EXO          0.74487354 \n",
              "2  DO_Water_EXO          DO.Sat_Water_EXO      0.72191143 \n",
              "3  Temperature_Water_EXO pH_Water_EXO          0.69913809 \n",
              "4  Chla_Water_EXO        Turbidity_Water_EXO   0.54461336 \n",
              "5  SpCond_Water_EXO      Turbidity_Water_EXO   0.54291810 \n",
              "6  Chla_Water_EXO        SpCond_Water_EXO      0.48235781 \n",
              "7  Chla_Water_EXO        DO_Water_EXO          0.47247189 \n",
              "8  DO_Water_EXO          Turbidity_Water_EXO   0.41218520 \n",
              "9  DO.Sat_Water_EXO      Temperature_Water_EXO 0.35614384 \n",
              "10 DO.Sat_Water_EXO      SpCond_Water_EXO      0.35513336 \n",
              "11 Chla_Water_EXO        DO.Sat_Water_EXO      0.34656762 \n",
              "12 SpCond_Water_EXO      Temperature_Water_EXO 0.25377252 \n",
              "13 SpCond_Water_EXO      pH_Water_EXO          0.24963303 \n",
              "14 DO_Water_EXO          pH_Water_EXO          0.21303187 \n",
              "15 Chla_Water_EXO        pH_Water_EXO          0.17142585 \n",
              "16 DO_Water_EXO          SpCond_Water_EXO      0.15993693 \n",
              "17 DO.Sat_Water_EXO      Turbidity_Water_EXO   0.09588756 \n",
              "18 SensorDepth_Water_EXO Turbidity_Water_EXO   0.08049827 "
            ]
          },
          "metadata": {}
        }
      ]
    },
    {
      "cell_type": "code",
      "source": [],
      "metadata": {
        "id": "sL_mJfz0qg7d"
      },
      "execution_count": null,
      "outputs": []
    }
  ]
}