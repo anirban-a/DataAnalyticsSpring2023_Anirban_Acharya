{
 "cells": [
  {
   "cell_type": "code",
   "execution_count": null,
   "metadata": {
    "id": "r0fyOrR_YdVS",
    "vscode": {
     "languageId": "r"
    }
   },
   "outputs": [],
   "source": [
    "library(ggplot2)\n",
    "library(dplyr)"
   ]
  },
  {
   "cell_type": "code",
   "execution_count": null,
   "metadata": {
    "id": "KgkgYeWkZKSN",
    "vscode": {
     "languageId": "r"
    }
   },
   "outputs": [],
   "source": [
    "df <- read.csv('./ProjectData/2018_JP_VP_Level4.csv')"
   ]
  },
  {
   "cell_type": "code",
   "execution_count": null,
   "metadata": {
    "colab": {
     "base_uri": "https://localhost:8080/",
     "height": 52
    },
    "id": "UE9Uu7VrZlfk",
    "outputId": "f63ebf21-4c5f-4986-e17e-b6cae697d677",
    "vscode": {
     "languageId": "r"
    }
   },
   "outputs": [],
   "source": [
    "# see number of columns:\n",
    "ncol(df)\n",
    "nrow(df)"
   ]
  },
  {
   "cell_type": "code",
   "execution_count": null,
   "metadata": {
    "colab": {
     "base_uri": "https://localhost:8080/",
     "height": 34
    },
    "id": "rabA-p4rZqpp",
    "outputId": "775e9b1c-e062-4584-de4d-527615304e4a",
    "vscode": {
     "languageId": "r"
    }
   },
   "outputs": [],
   "source": [
    "# see number of NA values.\n",
    "sum(is.na(df))"
   ]
  },
  {
   "cell_type": "code",
   "execution_count": null,
   "metadata": {
    "id": "CvSoJ-5EZ_Ws",
    "vscode": {
     "languageId": "r"
    }
   },
   "outputs": [],
   "source": [
    "df <- na.omit(df)"
   ]
  },
  {
   "cell_type": "code",
   "execution_count": null,
   "metadata": {
    "colab": {
     "base_uri": "https://localhost:8080/",
     "height": 52
    },
    "id": "T8uK0F6rgBGf",
    "outputId": "9bfa1fe0-59ab-48e6-b211-a6ac605d6d23",
    "vscode": {
     "languageId": "r"
    }
   },
   "outputs": [],
   "source": [
    "ncol(df)\n",
    "nrow(df)"
   ]
  },
  {
   "cell_type": "code",
   "execution_count": null,
   "metadata": {
    "colab": {
     "base_uri": "https://localhost:8080/",
     "height": 34
    },
    "id": "D2xKyy0xgCs0",
    "outputId": "878a9ef4-6460-4a6b-d28c-80c9a437764c",
    "vscode": {
     "languageId": "r"
    }
   },
   "outputs": [],
   "source": [
    "# see number of NA values.\n",
    "sum(is.na(df))"
   ]
  },
  {
   "cell_type": "code",
   "execution_count": null,
   "metadata": {
    "colab": {
     "base_uri": "https://localhost:8080/",
     "height": 515
    },
    "id": "C7_IfYTlgOHy",
    "outputId": "4b4b83ef-1036-4140-f0a0-6e09fc3a35b8",
    "vscode": {
     "languageId": "r"
    }
   },
   "outputs": [],
   "source": [
    "head(df)"
   ]
  },
  {
   "cell_type": "code",
   "execution_count": null,
   "metadata": {
    "colab": {
     "base_uri": "https://localhost:8080/",
     "height": 52
    },
    "id": "w3R-A-7x_mzQ",
    "outputId": "99da2042-99df-4cae-baa0-25249f0ac083",
    "vscode": {
     "languageId": "r"
    }
   },
   "outputs": [],
   "source": [
    "cols <- colnames(df)\n",
    "cols"
   ]
  },
  {
   "cell_type": "markdown",
   "metadata": {
    "id": "acO7QMN6pg-D"
   },
   "source": [
    "## Create a Dataframe of correlations between each numerical variables."
   ]
  },
  {
   "cell_type": "code",
   "execution_count": null,
   "metadata": {
    "id": "SvpvJATcirlq",
    "vscode": {
     "languageId": "r"
    }
   },
   "outputs": [],
   "source": [
    "\n",
    "colx <- c()\n",
    "coly <- c()\n",
    "correlation <- c()\n",
    "\n",
    "for(i in 3:(length(cols)-1)){\n",
    "  for(j in (i+1):length(cols)){\n",
    "    colx <- append(colx, cols[i])\n",
    "    coly <- append(coly, cols[j])\n",
    "    correlation <- append(correlation, cor(df[, i], df[, j]))\n",
    "  }\n",
    "}\n",
    "\n",
    "correlations <- data.frame(colx, coly, correlation)"
   ]
  },
  {
   "cell_type": "markdown",
   "metadata": {
    "id": "r7DHKMkHp41T"
   },
   "source": [
    "### Let's look into the correlations:"
   ]
  },
  {
   "cell_type": "code",
   "execution_count": null,
   "metadata": {
    "colab": {
     "base_uri": "https://localhost:8080/",
     "height": 1000
    },
    "id": "WjfZ8L07kEqg",
    "outputId": "64123c2b-d472-4332-c1ff-03730fb7a186",
    "vscode": {
     "languageId": "r"
    }
   },
   "outputs": [],
   "source": [
    "\n",
    "correlations"
   ]
  },
  {
   "cell_type": "markdown",
   "metadata": {
    "id": "j96_bDTmq18t"
   },
   "source": [
    "### Variables having positive correlations in descending order."
   ]
  },
  {
   "cell_type": "code",
   "execution_count": null,
   "metadata": {
    "colab": {
     "base_uri": "https://localhost:8080/",
     "height": 913
    },
    "id": "-hJ-aU08pS_v",
    "outputId": "5447414d-ee91-4563-fdce-fe80a291a1c9",
    "vscode": {
     "languageId": "r"
    }
   },
   "outputs": [],
   "source": [
    "correlations |> filter(correlation>0)|>arrange(desc(correlation))"
   ]
  },
  {
   "cell_type": "code",
   "execution_count": null,
   "metadata": {
    "colab": {
     "base_uri": "https://localhost:8080/",
     "height": 437
    },
    "id": "sL_mJfz0qg7d",
    "outputId": "614f0332-4156-49df-e6e0-19387479c8fb",
    "vscode": {
     "languageId": "r"
    }
   },
   "outputs": [],
   "source": [
    "# DO.Sat_Water_EXO vs pH_Water_EXO\n",
    "ggplot(df, mapping=aes(x=DO.Sat_Water_EXO, y=pH_Water_EXO, color=as.factor(Site_Name)))+\n",
    "  geom_point()"
   ]
  },
  {
   "cell_type": "code",
   "execution_count": null,
   "metadata": {
    "colab": {
     "base_uri": "https://localhost:8080/",
     "height": 437
    },
    "id": "bzRhfKxN47LC",
    "outputId": "a9d0cda2-5ef1-408d-d846-e50be7b6ce1f",
    "vscode": {
     "languageId": "r"
    }
   },
   "outputs": [],
   "source": [
    "# DO_Water_EXO vs\tDO.Sat_Water_EXO\n",
    "ggplot(df, aes(DO_Water_EXO,\tDO.Sat_Water_EXO, color=as.factor(Site_Name)))+\n",
    "  geom_point()"
   ]
  },
  {
   "cell_type": "code",
   "execution_count": null,
   "metadata": {
    "colab": {
     "base_uri": "https://localhost:8080/",
     "height": 437
    },
    "id": "GJK1i-0I6Biw",
    "outputId": "a0b360c9-295f-4400-86a1-d176f47dd0f4",
    "vscode": {
     "languageId": "r"
    }
   },
   "outputs": [],
   "source": [
    "# Temperature_Water_EXO\tvs pH_Water_EXO\n",
    "ggplot(df, aes(Temperature_Water_EXO,\tpH_Water_EXO, color=as.factor(Site_Name)))+\n",
    "  geom_point()"
   ]
  },
  {
   "cell_type": "markdown",
   "metadata": {
    "id": "97e1BS5v9By0"
   },
   "source": [
    "## Turbidity\n",
    "\n",
    "Turbidity is caused by particles suspended or dissolved in water that scatter light making the water appear cloudy or murky. Particulate matter can include sediment - especially clay and silt, fine **organic** and **inorganic** matter, soluble colored organic compounds, **algae**, and other microscopic organisms."
   ]
  },
  {
   "cell_type": "code",
   "execution_count": null,
   "metadata": {
    "colab": {
     "background_save": true,
     "base_uri": "https://localhost:8080/"
    },
    "id": "Ds26Vdn0KjeF",
    "outputId": "55ad7711-4e9a-4085-cc7b-ec79bbecf013",
    "vscode": {
     "languageId": "r"
    }
   },
   "outputs": [],
   "source": [
    "install.packages('hrbrthemes')\n",
    "library(hrbrthemes)"
   ]
  },
  {
   "cell_type": "code",
   "execution_count": null,
   "metadata": {
    "colab": {
     "base_uri": "https://localhost:8080/",
     "height": 97
    },
    "id": "z8J3k56p_Mq5",
    "outputId": "05a841b8-3093-4c7e-e855-5a50656693b7",
    "vscode": {
     "languageId": "r"
    }
   },
   "outputs": [],
   "source": [
    "ggplot(df, aes(x=DateTime, y = Turbidity_Water_EXO))+\n",
    "  geom_line()+\n",
    "  theme_ipsum() +\n",
    "  theme(axis.text.x=element_text(angle=60, hjust=1)) "
   ]
  },
  {
   "cell_type": "code",
   "execution_count": null,
   "metadata": {
    "id": "wBcI4WP3JAvz",
    "vscode": {
     "languageId": "r"
    }
   },
   "outputs": [],
   "source": [
    "str(df$DateTime)"
   ]
  },
  {
   "cell_type": "code",
   "execution_count": null,
   "metadata": {
    "id": "uQxycVP6KwoF",
    "vscode": {
     "languageId": "r"
    }
   },
   "outputs": [],
   "source": []
  }
 ],
 "metadata": {
  "colab": {
   "provenance": []
  },
  "kernelspec": {
   "display_name": "R",
   "language": "R",
   "name": "ir"
  },
  "language_info": {
   "codemirror_mode": "r",
   "file_extension": ".r",
   "mimetype": "text/x-r-source",
   "name": "R",
   "pygments_lexer": "r",
   "version": "4.2.2"
  }
 },
 "nbformat": 4,
 "nbformat_minor": 1
}
