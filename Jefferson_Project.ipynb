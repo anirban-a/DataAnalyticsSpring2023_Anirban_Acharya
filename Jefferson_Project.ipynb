{
  "nbformat": 4,
  "nbformat_minor": 0,
  "metadata": {
    "colab": {
      "provenance": [],
      "authorship_tag": "ABX9TyNFxh5lw9/HcjfqvvpfdnTa",
      "include_colab_link": true
    },
    "kernelspec": {
      "name": "ir",
      "display_name": "R"
    },
    "language_info": {
      "name": "R"
    }
  },
  "cells": [
    {
      "cell_type": "markdown",
      "metadata": {
        "id": "view-in-github",
        "colab_type": "text"
      },
      "source": [
        "<a href=\"https://colab.research.google.com/github/anirban-a/DataAnalyticsSpring2023_Anirban_Acharya/blob/main/Jefferson_Project.ipynb\" target=\"_parent\"><img src=\"https://colab.research.google.com/assets/colab-badge.svg\" alt=\"Open In Colab\"/></a>"
      ]
    },
    {
      "cell_type": "code",
      "execution_count": 2,
      "metadata": {
        "id": "r0fyOrR_YdVS"
      },
      "outputs": [],
      "source": [
        "library(ggplot2)"
      ]
    },
    {
      "cell_type": "code",
      "source": [
        "df <- read.csv('/content/2018_JP_VP_Level4.csv')"
      ],
      "metadata": {
        "id": "KgkgYeWkZKSN"
      },
      "execution_count": 3,
      "outputs": []
    },
    {
      "cell_type": "code",
      "source": [
        "# see number of columns:\n",
        "ncol(df)"
      ],
      "metadata": {
        "colab": {
          "base_uri": "https://localhost:8080/",
          "height": 34
        },
        "id": "UE9Uu7VrZlfk",
        "outputId": "29c34e64-55a8-4c22-f5d2-5ad67037fd8c"
      },
      "execution_count": 5,
      "outputs": [
        {
          "output_type": "display_data",
          "data": {
            "text/html": [
              "12"
            ],
            "text/markdown": "12",
            "text/latex": "12",
            "text/plain": [
              "[1] 12"
            ]
          },
          "metadata": {}
        }
      ]
    },
    {
      "cell_type": "code",
      "source": [
        "sum(is.na(df))"
      ],
      "metadata": {
        "colab": {
          "base_uri": "https://localhost:8080/",
          "height": 34
        },
        "id": "rabA-p4rZqpp",
        "outputId": "aeee43da-1c2c-4a9e-bbe2-60000a9a8aa1"
      },
      "execution_count": 6,
      "outputs": [
        {
          "output_type": "display_data",
          "data": {
            "text/html": [
              "478242"
            ],
            "text/markdown": "478242",
            "text/latex": "478242",
            "text/plain": [
              "[1] 478242"
            ]
          },
          "metadata": {}
        }
      ]
    },
    {
      "cell_type": "code",
      "source": [],
      "metadata": {
        "id": "CvSoJ-5EZ_Ws"
      },
      "execution_count": null,
      "outputs": []
    }
  ]
}