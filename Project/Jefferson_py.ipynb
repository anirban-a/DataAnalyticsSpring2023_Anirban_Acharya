{
 "cells": [
  {
   "cell_type": "code",
   "execution_count": 9,
   "metadata": {},
   "outputs": [],
   "source": [
    "import pandas as pd"
   ]
  },
  {
   "cell_type": "code",
   "execution_count": 10,
   "metadata": {},
   "outputs": [],
   "source": [
    "df = pd.read_csv('../ProjectData/2018_JP_VP_Level4.csv')"
   ]
  },
  {
   "cell_type": "code",
   "execution_count": 11,
   "metadata": {},
   "outputs": [
    {
     "data": {
      "text/plain": [
       "(221764, 12)"
      ]
     },
     "execution_count": 11,
     "metadata": {},
     "output_type": "execute_result"
    }
   ],
   "source": [
    "df.shape"
   ]
  },
  {
   "cell_type": "code",
   "execution_count": 12,
   "metadata": {},
   "outputs": [
    {
     "data": {
      "text/plain": [
       "(164646, 12)"
      ]
     },
     "execution_count": 12,
     "metadata": {},
     "output_type": "execute_result"
    }
   ],
   "source": [
    "df = df.dropna()\n",
    "df.shape"
   ]
  },
  {
   "cell_type": "code",
   "execution_count": 13,
   "metadata": {},
   "outputs": [
    {
     "data": {
      "text/html": [
       "<div>\n",
       "<style scoped>\n",
       "    .dataframe tbody tr th:only-of-type {\n",
       "        vertical-align: middle;\n",
       "    }\n",
       "\n",
       "    .dataframe tbody tr th {\n",
       "        vertical-align: top;\n",
       "    }\n",
       "\n",
       "    .dataframe thead th {\n",
       "        text-align: right;\n",
       "    }\n",
       "</style>\n",
       "<table border=\"1\" class=\"dataframe\">\n",
       "  <thead>\n",
       "    <tr style=\"text-align: right;\">\n",
       "      <th></th>\n",
       "      <th>DateTime</th>\n",
       "      <th>Site_Name</th>\n",
       "      <th>Chla_Water_EXO</th>\n",
       "      <th>SensorDepth_Water_EXO</th>\n",
       "      <th>DO_Water_EXO</th>\n",
       "      <th>DO-Sat_Water_EXO</th>\n",
       "      <th>SpCond_Water_EXO</th>\n",
       "      <th>Temperature_Water_EXO</th>\n",
       "      <th>Turbidity_Water_EXO</th>\n",
       "      <th>pH_Water_EXO</th>\n",
       "      <th>PC_Water_EXO</th>\n",
       "      <th>fDOM_Water_EXO</th>\n",
       "    </tr>\n",
       "  </thead>\n",
       "  <tbody>\n",
       "    <tr>\n",
       "      <th>674</th>\n",
       "      <td>2018-05-14 16:07:00</td>\n",
       "      <td>VP_AnthonysNose</td>\n",
       "      <td>0.198</td>\n",
       "      <td>0.99</td>\n",
       "      <td>12.53</td>\n",
       "      <td>108.84</td>\n",
       "      <td>138.63</td>\n",
       "      <td>9.12</td>\n",
       "      <td>0.51</td>\n",
       "      <td>7.630000</td>\n",
       "      <td>0.151472</td>\n",
       "      <td>1.030458</td>\n",
       "    </tr>\n",
       "    <tr>\n",
       "      <th>675</th>\n",
       "      <td>2018-05-14 16:08:00</td>\n",
       "      <td>VP_AnthonysNose</td>\n",
       "      <td>0.099</td>\n",
       "      <td>1.80</td>\n",
       "      <td>12.53</td>\n",
       "      <td>108.75</td>\n",
       "      <td>138.62</td>\n",
       "      <td>9.12</td>\n",
       "      <td>0.49</td>\n",
       "      <td>7.629989</td>\n",
       "      <td>0.151472</td>\n",
       "      <td>1.066934</td>\n",
       "    </tr>\n",
       "    <tr>\n",
       "      <th>676</th>\n",
       "      <td>2018-05-14 16:09:00</td>\n",
       "      <td>VP_AnthonysNose</td>\n",
       "      <td>0.072</td>\n",
       "      <td>3.04</td>\n",
       "      <td>12.54</td>\n",
       "      <td>108.85</td>\n",
       "      <td>138.54</td>\n",
       "      <td>9.12</td>\n",
       "      <td>0.53</td>\n",
       "      <td>7.629978</td>\n",
       "      <td>0.171402</td>\n",
       "      <td>1.021339</td>\n",
       "    </tr>\n",
       "    <tr>\n",
       "      <th>677</th>\n",
       "      <td>2018-05-14 16:10:00</td>\n",
       "      <td>VP_AnthonysNose</td>\n",
       "      <td>0.180</td>\n",
       "      <td>3.83</td>\n",
       "      <td>12.54</td>\n",
       "      <td>108.83</td>\n",
       "      <td>138.50</td>\n",
       "      <td>9.11</td>\n",
       "      <td>0.54</td>\n",
       "      <td>7.629967</td>\n",
       "      <td>0.171357</td>\n",
       "      <td>1.057743</td>\n",
       "    </tr>\n",
       "    <tr>\n",
       "      <th>679</th>\n",
       "      <td>2018-05-14 16:12:00</td>\n",
       "      <td>VP_AnthonysNose</td>\n",
       "      <td>0.324</td>\n",
       "      <td>4.83</td>\n",
       "      <td>12.55</td>\n",
       "      <td>108.80</td>\n",
       "      <td>138.45</td>\n",
       "      <td>9.07</td>\n",
       "      <td>0.51</td>\n",
       "      <td>7.629945</td>\n",
       "      <td>0.161223</td>\n",
       "      <td>1.020990</td>\n",
       "    </tr>\n",
       "  </tbody>\n",
       "</table>\n",
       "</div>"
      ],
      "text/plain": [
       "                DateTime        Site_Name  Chla_Water_EXO  \\\n",
       "674  2018-05-14 16:07:00  VP_AnthonysNose           0.198   \n",
       "675  2018-05-14 16:08:00  VP_AnthonysNose           0.099   \n",
       "676  2018-05-14 16:09:00  VP_AnthonysNose           0.072   \n",
       "677  2018-05-14 16:10:00  VP_AnthonysNose           0.180   \n",
       "679  2018-05-14 16:12:00  VP_AnthonysNose           0.324   \n",
       "\n",
       "     SensorDepth_Water_EXO  DO_Water_EXO  DO-Sat_Water_EXO  SpCond_Water_EXO  \\\n",
       "674                   0.99         12.53            108.84            138.63   \n",
       "675                   1.80         12.53            108.75            138.62   \n",
       "676                   3.04         12.54            108.85            138.54   \n",
       "677                   3.83         12.54            108.83            138.50   \n",
       "679                   4.83         12.55            108.80            138.45   \n",
       "\n",
       "     Temperature_Water_EXO  Turbidity_Water_EXO  pH_Water_EXO  PC_Water_EXO  \\\n",
       "674                   9.12                 0.51      7.630000      0.151472   \n",
       "675                   9.12                 0.49      7.629989      0.151472   \n",
       "676                   9.12                 0.53      7.629978      0.171402   \n",
       "677                   9.11                 0.54      7.629967      0.171357   \n",
       "679                   9.07                 0.51      7.629945      0.161223   \n",
       "\n",
       "     fDOM_Water_EXO  \n",
       "674        1.030458  \n",
       "675        1.066934  \n",
       "676        1.021339  \n",
       "677        1.057743  \n",
       "679        1.020990  "
      ]
     },
     "execution_count": 13,
     "metadata": {},
     "output_type": "execute_result"
    }
   ],
   "source": [
    "df.head()"
   ]
  },
  {
   "cell_type": "code",
   "execution_count": 14,
   "metadata": {},
   "outputs": [],
   "source": [
    "df_cols = df.columns"
   ]
  },
  {
   "attachments": {},
   "cell_type": "markdown",
   "metadata": {},
   "source": [
    "## Let's look into the correlations:"
   ]
  },
  {
   "cell_type": "code",
   "execution_count": 15,
   "metadata": {},
   "outputs": [
    {
     "name": "stderr",
     "output_type": "stream",
     "text": [
      "/var/folders/gw/lpzg_5qx4xs1zxy36cq8fs0r0000gn/T/ipykernel_3408/1935570831.py:6: FutureWarning: The default value of numeric_only in DataFrame.corr is deprecated. In a future version, it will default to False. Select only valid columns or specify the value of numeric_only to silence this warning.\n",
      "  df.corr()\n"
     ]
    },
    {
     "data": {
      "text/html": [
       "<div>\n",
       "<style scoped>\n",
       "    .dataframe tbody tr th:only-of-type {\n",
       "        vertical-align: middle;\n",
       "    }\n",
       "\n",
       "    .dataframe tbody tr th {\n",
       "        vertical-align: top;\n",
       "    }\n",
       "\n",
       "    .dataframe thead th {\n",
       "        text-align: right;\n",
       "    }\n",
       "</style>\n",
       "<table border=\"1\" class=\"dataframe\">\n",
       "  <thead>\n",
       "    <tr style=\"text-align: right;\">\n",
       "      <th></th>\n",
       "      <th>Chla_Water_EXO</th>\n",
       "      <th>SensorDepth_Water_EXO</th>\n",
       "      <th>DO_Water_EXO</th>\n",
       "      <th>DO-Sat_Water_EXO</th>\n",
       "      <th>SpCond_Water_EXO</th>\n",
       "      <th>Temperature_Water_EXO</th>\n",
       "      <th>Turbidity_Water_EXO</th>\n",
       "      <th>pH_Water_EXO</th>\n",
       "      <th>PC_Water_EXO</th>\n",
       "      <th>fDOM_Water_EXO</th>\n",
       "    </tr>\n",
       "  </thead>\n",
       "  <tbody>\n",
       "    <tr>\n",
       "      <th>Chla_Water_EXO</th>\n",
       "      <td>1.000000</td>\n",
       "      <td>-0.217279</td>\n",
       "      <td>0.472472</td>\n",
       "      <td>0.346568</td>\n",
       "      <td>0.482358</td>\n",
       "      <td>-0.176868</td>\n",
       "      <td>0.544613</td>\n",
       "      <td>0.171426</td>\n",
       "      <td>0.278014</td>\n",
       "      <td>0.000048</td>\n",
       "    </tr>\n",
       "    <tr>\n",
       "      <th>SensorDepth_Water_EXO</th>\n",
       "      <td>-0.217279</td>\n",
       "      <td>1.000000</td>\n",
       "      <td>-0.009118</td>\n",
       "      <td>-0.585003</td>\n",
       "      <td>-0.483456</td>\n",
       "      <td>-0.756599</td>\n",
       "      <td>0.080498</td>\n",
       "      <td>-0.777386</td>\n",
       "      <td>0.431884</td>\n",
       "      <td>0.622523</td>\n",
       "    </tr>\n",
       "    <tr>\n",
       "      <th>DO_Water_EXO</th>\n",
       "      <td>0.472472</td>\n",
       "      <td>-0.009118</td>\n",
       "      <td>1.000000</td>\n",
       "      <td>0.721911</td>\n",
       "      <td>0.159937</td>\n",
       "      <td>-0.384018</td>\n",
       "      <td>0.412185</td>\n",
       "      <td>0.213032</td>\n",
       "      <td>0.069762</td>\n",
       "      <td>-0.089650</td>\n",
       "    </tr>\n",
       "    <tr>\n",
       "      <th>DO-Sat_Water_EXO</th>\n",
       "      <td>0.346568</td>\n",
       "      <td>-0.585003</td>\n",
       "      <td>0.721911</td>\n",
       "      <td>1.000000</td>\n",
       "      <td>0.355133</td>\n",
       "      <td>0.356144</td>\n",
       "      <td>0.095888</td>\n",
       "      <td>0.744874</td>\n",
       "      <td>-0.358659</td>\n",
       "      <td>-0.613629</td>\n",
       "    </tr>\n",
       "    <tr>\n",
       "      <th>SpCond_Water_EXO</th>\n",
       "      <td>0.482358</td>\n",
       "      <td>-0.483456</td>\n",
       "      <td>0.159937</td>\n",
       "      <td>0.355133</td>\n",
       "      <td>1.000000</td>\n",
       "      <td>0.253773</td>\n",
       "      <td>0.542918</td>\n",
       "      <td>0.249633</td>\n",
       "      <td>-0.258629</td>\n",
       "      <td>-0.395579</td>\n",
       "    </tr>\n",
       "    <tr>\n",
       "      <th>Temperature_Water_EXO</th>\n",
       "      <td>-0.176868</td>\n",
       "      <td>-0.756599</td>\n",
       "      <td>-0.384018</td>\n",
       "      <td>0.356144</td>\n",
       "      <td>0.253773</td>\n",
       "      <td>1.000000</td>\n",
       "      <td>-0.453452</td>\n",
       "      <td>0.699138</td>\n",
       "      <td>-0.586620</td>\n",
       "      <td>-0.707674</td>\n",
       "    </tr>\n",
       "    <tr>\n",
       "      <th>Turbidity_Water_EXO</th>\n",
       "      <td>0.544613</td>\n",
       "      <td>0.080498</td>\n",
       "      <td>0.412185</td>\n",
       "      <td>0.095888</td>\n",
       "      <td>0.542918</td>\n",
       "      <td>-0.453452</td>\n",
       "      <td>1.000000</td>\n",
       "      <td>-0.264840</td>\n",
       "      <td>0.210644</td>\n",
       "      <td>0.241654</td>\n",
       "    </tr>\n",
       "    <tr>\n",
       "      <th>pH_Water_EXO</th>\n",
       "      <td>0.171426</td>\n",
       "      <td>-0.777386</td>\n",
       "      <td>0.213032</td>\n",
       "      <td>0.744874</td>\n",
       "      <td>0.249633</td>\n",
       "      <td>0.699138</td>\n",
       "      <td>-0.264840</td>\n",
       "      <td>1.000000</td>\n",
       "      <td>-0.350307</td>\n",
       "      <td>-0.795513</td>\n",
       "    </tr>\n",
       "    <tr>\n",
       "      <th>PC_Water_EXO</th>\n",
       "      <td>0.278014</td>\n",
       "      <td>0.431884</td>\n",
       "      <td>0.069762</td>\n",
       "      <td>-0.358659</td>\n",
       "      <td>-0.258629</td>\n",
       "      <td>-0.586620</td>\n",
       "      <td>0.210644</td>\n",
       "      <td>-0.350307</td>\n",
       "      <td>1.000000</td>\n",
       "      <td>0.503899</td>\n",
       "    </tr>\n",
       "    <tr>\n",
       "      <th>fDOM_Water_EXO</th>\n",
       "      <td>0.000048</td>\n",
       "      <td>0.622523</td>\n",
       "      <td>-0.089650</td>\n",
       "      <td>-0.613629</td>\n",
       "      <td>-0.395579</td>\n",
       "      <td>-0.707674</td>\n",
       "      <td>0.241654</td>\n",
       "      <td>-0.795513</td>\n",
       "      <td>0.503899</td>\n",
       "      <td>1.000000</td>\n",
       "    </tr>\n",
       "  </tbody>\n",
       "</table>\n",
       "</div>"
      ],
      "text/plain": [
       "                       Chla_Water_EXO  SensorDepth_Water_EXO  DO_Water_EXO  \\\n",
       "Chla_Water_EXO               1.000000              -0.217279      0.472472   \n",
       "SensorDepth_Water_EXO       -0.217279               1.000000     -0.009118   \n",
       "DO_Water_EXO                 0.472472              -0.009118      1.000000   \n",
       "DO-Sat_Water_EXO             0.346568              -0.585003      0.721911   \n",
       "SpCond_Water_EXO             0.482358              -0.483456      0.159937   \n",
       "Temperature_Water_EXO       -0.176868              -0.756599     -0.384018   \n",
       "Turbidity_Water_EXO          0.544613               0.080498      0.412185   \n",
       "pH_Water_EXO                 0.171426              -0.777386      0.213032   \n",
       "PC_Water_EXO                 0.278014               0.431884      0.069762   \n",
       "fDOM_Water_EXO               0.000048               0.622523     -0.089650   \n",
       "\n",
       "                       DO-Sat_Water_EXO  SpCond_Water_EXO  \\\n",
       "Chla_Water_EXO                 0.346568          0.482358   \n",
       "SensorDepth_Water_EXO         -0.585003         -0.483456   \n",
       "DO_Water_EXO                   0.721911          0.159937   \n",
       "DO-Sat_Water_EXO               1.000000          0.355133   \n",
       "SpCond_Water_EXO               0.355133          1.000000   \n",
       "Temperature_Water_EXO          0.356144          0.253773   \n",
       "Turbidity_Water_EXO            0.095888          0.542918   \n",
       "pH_Water_EXO                   0.744874          0.249633   \n",
       "PC_Water_EXO                  -0.358659         -0.258629   \n",
       "fDOM_Water_EXO                -0.613629         -0.395579   \n",
       "\n",
       "                       Temperature_Water_EXO  Turbidity_Water_EXO  \\\n",
       "Chla_Water_EXO                     -0.176868             0.544613   \n",
       "SensorDepth_Water_EXO              -0.756599             0.080498   \n",
       "DO_Water_EXO                       -0.384018             0.412185   \n",
       "DO-Sat_Water_EXO                    0.356144             0.095888   \n",
       "SpCond_Water_EXO                    0.253773             0.542918   \n",
       "Temperature_Water_EXO               1.000000            -0.453452   \n",
       "Turbidity_Water_EXO                -0.453452             1.000000   \n",
       "pH_Water_EXO                        0.699138            -0.264840   \n",
       "PC_Water_EXO                       -0.586620             0.210644   \n",
       "fDOM_Water_EXO                     -0.707674             0.241654   \n",
       "\n",
       "                       pH_Water_EXO  PC_Water_EXO  fDOM_Water_EXO  \n",
       "Chla_Water_EXO             0.171426      0.278014        0.000048  \n",
       "SensorDepth_Water_EXO     -0.777386      0.431884        0.622523  \n",
       "DO_Water_EXO               0.213032      0.069762       -0.089650  \n",
       "DO-Sat_Water_EXO           0.744874     -0.358659       -0.613629  \n",
       "SpCond_Water_EXO           0.249633     -0.258629       -0.395579  \n",
       "Temperature_Water_EXO      0.699138     -0.586620       -0.707674  \n",
       "Turbidity_Water_EXO       -0.264840      0.210644        0.241654  \n",
       "pH_Water_EXO               1.000000     -0.350307       -0.795513  \n",
       "PC_Water_EXO              -0.350307      1.000000        0.503899  \n",
       "fDOM_Water_EXO            -0.795513      0.503899        1.000000  "
      ]
     },
     "execution_count": 15,
     "metadata": {},
     "output_type": "execute_result"
    }
   ],
   "source": [
    "features = ['DateTime', 'Chla_Water_EXO', 'SensorDepth_Water_EXO',\n",
    "       'DO_Water_EXO', 'DO-Sat_Water_EXO', 'SpCond_Water_EXO',\n",
    "       'Temperature_Water_EXO', 'Turbidity_Water_EXO', 'pH_Water_EXO',\n",
    "       'PC_Water_EXO', 'fDOM_Water_EXO']\n",
    "\n",
    "df.corr()"
   ]
  },
  {
   "attachments": {},
   "cell_type": "markdown",
   "metadata": {},
   "source": [
    "## Turbidity\n",
    "Turbidity is caused by particles suspended or dissolved in water that scatter light making the water appear cloudy or murky. Particulate matter can include sediment - especially clay and silt, fine organic and inorganic matter, soluble colored organic compounds, algae, and other microscopic organisms.\n",
    "\n",
    "\n",
    "## Observations:\n",
    "\n",
    "1. `Temperature_Water_EXO` has high correlations with `Chla_Water_EXO`, `SpCond_Water_EXO`\n",
    "2. `DO_Water_EXO` has high correlation with `DO-Sat_Water_EXO`\n",
    "3. `DO-Sat_Water_EXO` has high correlation with `pH_Water_EXO`"
   ]
  },
  {
   "cell_type": "code",
   "execution_count": 26,
   "metadata": {},
   "outputs": [],
   "source": [
    "import matplotlib.pyplot as plt"
   ]
  },
  {
   "cell_type": "code",
   "execution_count": 19,
   "metadata": {},
   "outputs": [
    {
     "data": {
      "text/plain": [
       "<bound method NDFrame.describe of 674      2018-05-14 16:07:00\n",
       "675      2018-05-14 16:08:00\n",
       "676      2018-05-14 16:09:00\n",
       "677      2018-05-14 16:10:00\n",
       "679      2018-05-14 16:12:00\n",
       "                 ...        \n",
       "220811   2018-11-22 04:29:00\n",
       "220812   2018-11-22 04:30:00\n",
       "220813   2018-11-22 04:31:00\n",
       "220815   2018-11-22 04:33:00\n",
       "220816   2018-11-22 04:34:00\n",
       "Name: DateTime, Length: 164646, dtype: datetime64[ns]>"
      ]
     },
     "execution_count": 19,
     "metadata": {},
     "output_type": "execute_result"
    }
   ],
   "source": [
    "df['DateTime']=pd.to_datetime(df['DateTime'])\n",
    "df['DateTime'].describe"
   ]
  },
  {
   "cell_type": "code",
   "execution_count": 27,
   "metadata": {},
   "outputs": [
    {
     "data": {
      "text/plain": [
       "<Axes: xlabel='DateTime'>"
      ]
     },
     "execution_count": 27,
     "metadata": {},
     "output_type": "execute_result"
    },
    {
     "data": {
      "image/png": "[encoded data removed]",
      "text/plain": [
       "<Figure size 640x480 with 1 Axes>"
      ]
     },
     "metadata": {},
     "output_type": "display_data"
    }
   ],
   "source": [
    "df.plot(x='DateTime', y='Turbidity_Water_EXO', ax=plt.gca())"
   ]
  },
  {
   "cell_type": "code",
   "execution_count": 30,
   "metadata": {},
   "outputs": [
    {
     "data": {
      "text/plain": [
       "<Axes: xlabel='DateTime'>"
      ]
     },
     "execution_count": 30,
     "metadata": {},
     "output_type": "execute_result"
    },
    {
     "data": {
      "image/png": "[encoded data removed]",
      "text/plain": [
       "<Figure size 640x480 with 1 Axes>"
      ]
     },
     "metadata": {},
     "output_type": "display_data"
    }
   ],
   "source": [
    "df.plot(x='DateTime', y='Chla_Water_EXO', ax=plt.gca())"
   ]
  },
  {
   "attachments": {},
   "cell_type": "markdown",
   "metadata": {},
   "source": [
    "### Observation:\n",
    "\n",
    "As `Chla_Water_EXO` increases, `Turbidity_Water_EXO` also increases"
   ]
  },
  {
   "cell_type": "code",
   "execution_count": null,
   "metadata": {},
   "outputs": [],
   "source": []
  }
 ],
 "metadata": {
  "kernelspec": {
   "display_name": "base",
   "language": "python",
   "name": "python3"
  },
  "language_info": {
   "codemirror_mode": {
    "name": "ipython",
    "version": 3
   },
   "file_extension": ".py",
   "mimetype": "text/x-python",
   "name": "python",
   "nbconvert_exporter": "python",
   "pygments_lexer": "ipython3",
   "version": "3.10.9"
  },
  "orig_nbformat": 4,
  "vscode": {
   "interpreter": {
    "hash": "eac6993e6525400285f2babfdc0a8e954e29dcc7eaa21cc1e119b0613bdd41d4"
   }
  }
 },
 "nbformat": 4,
 "nbformat_minor": 2
}
