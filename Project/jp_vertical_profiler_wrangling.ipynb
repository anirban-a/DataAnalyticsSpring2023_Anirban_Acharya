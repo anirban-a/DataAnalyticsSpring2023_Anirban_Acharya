{
  "nbformat": 4,
  "nbformat_minor": 0,
  "metadata": {
    "colab": {
      "provenance": [],
      "authorship_tag": "ABX9TyNMKKpS+QEE8siArXoJrxXL",
      "include_colab_link": true
    },
    "kernelspec": {
      "name": "ir",
      "display_name": "R"
    },
    "language_info": {
      "name": "R"
    }
  },
  "cells": [
    {
      "cell_type": "markdown",
      "metadata": {
        "id": "view-in-github",
        "colab_type": "text"
      },
      "source": [
        "<a href=\"https://colab.research.google.com/github/anirban-a/DataAnalyticsSpring2023_Anirban_Acharya/blob/jp-initial/Project/jp_vertical_profiler_wrangling.ipynb\" target=\"_parent\"><img src=\"https://colab.research.google.com/assets/colab-badge.svg\" alt=\"Open In Colab\"/></a>"
      ]
    },
    {
      "cell_type": "code",
      "execution_count": 355,
      "metadata": {
        "id": "o_LjgnvL55C0"
      },
      "outputs": [],
      "source": [
        "library(ggplot2)\n",
        "library(dplyr)\n",
        "library(tidyverse)\n",
        "library(cowplot)\n",
        "library(knitr)"
      ]
    },
    {
      "cell_type": "code",
      "source": [
        "vp_17 <- read.csv('2017_JP_VP.csv')\n",
        "wx_17 <- read.csv('2017_JP_WX.csv')"
      ],
      "metadata": {
        "id": "BQ99vS9IBtuB"
      },
      "execution_count": 356,
      "outputs": []
    },
    {
      "cell_type": "code",
      "source": [
        "ts_18 <- read.csv('2018_JP_TS_Level4.csv')\n",
        "vp_18 <- read.csv('2018_JP_VP_Level4.csv')\n",
        "# wx_18 <- read.csv('2018_JP_WX_Level4.csv')"
      ],
      "metadata": {
        "id": "Sg5I-UM1GJ2i"
      },
      "execution_count": 357,
      "outputs": []
    },
    {
      "cell_type": "code",
      "source": [
        "# ts_19 <- read.csv('2019_JP_TS_Level4.csv')\n",
        "vp_19 <- read.csv('2019_JP_VP_Level4.csv')\n",
        "# wx_19 <- read.csv('2019_JP_WX_Level4.csv')"
      ],
      "metadata": {
        "id": "vUUGrs3lGNmF"
      },
      "execution_count": 358,
      "outputs": []
    },
    {
      "cell_type": "code",
      "source": [
        "# ts_20 <- read.csv('2020_JP_TS_Level4.csv')\n",
        "# wx_20 <- read.csv('2020_JP_WX_Level4.csv')"
      ],
      "metadata": {
        "id": "qYxu0qJxGPKr"
      },
      "execution_count": 359,
      "outputs": []
    },
    {
      "cell_type": "code",
      "source": [
        "nrow(vp_17)\n",
        "nrow(vp_19)"
      ],
      "metadata": {
        "colab": {
          "base_uri": "https://localhost:8080/",
          "height": 52
        },
        "id": "Gv2jLJy8Fx_V",
        "outputId": "989779df-13d5-496c-f51f-d50e2b6a47ac"
      },
      "execution_count": 360,
      "outputs": [
        {
          "output_type": "display_data",
          "data": {
            "text/html": [
              "293451"
            ],
            "text/markdown": "293451",
            "text/latex": "293451",
            "text/plain": [
              "[1] 293451"
            ]
          },
          "metadata": {}
        },
        {
          "output_type": "display_data",
          "data": {
            "text/html": [
              "3788159"
            ],
            "text/markdown": "3788159",
            "text/latex": "3788159",
            "text/plain": [
              "[1] 3788159"
            ]
          },
          "metadata": {}
        }
      ]
    },
    {
      "cell_type": "code",
      "source": [
        "vp_17 <- vp_17|>select(-CalibrationChange_System_EXO, -SensorDepth_Water_EXO, -Pressure_Water_EXO, -fDOM_Water_EXO)"
      ],
      "metadata": {
        "id": "YVWLzAoBF8tI"
      },
      "execution_count": 361,
      "outputs": []
    },
    {
      "cell_type": "code",
      "source": [
        "vp_17 <- vp_17|>select(-PC.TC_Water_EXO)\n",
        "vp_17 <- vp_17|>select(-Sitename)"
      ],
      "metadata": {
        "id": "saWWqtV-Gouz"
      },
      "execution_count": 362,
      "outputs": []
    },
    {
      "cell_type": "code",
      "source": [
        "mean_Chla_value <- mean(vp_17$Chla_Water_EXO, na.rm = T) # mean chlorophyll A value"
      ],
      "metadata": {
        "id": "G5kZclZ3G_uO"
      },
      "execution_count": 363,
      "outputs": []
    },
    {
      "cell_type": "code",
      "source": [
        "# Replace missing values with their means.\n",
        "\n",
        "vp_17 <- vp_17 |>\n",
        "  mutate(across(Chla_Water_EXO, ~replace_na(., mean(., na.rm=TRUE))))\n",
        "\n",
        "vp_17 <- vp_17 |>\n",
        "  mutate(across(DO.Sat_Water_EXO, ~replace_na(., mean(., na.rm = T))))\n",
        "\n",
        "vp_17 <- vp_17 |>\n",
        "  mutate(across(DO_Water_EXO, ~replace_na(., mean(., na.rm = T))))\n",
        "\n",
        "vp_17 <- vp_17 |>\n",
        "  mutate(across(fDOM.TC_Water_EXO, ~replace_na(., mean(., na.rm = T))))\n",
        "\n",
        "vp_17 <- vp_17 |>\n",
        "  mutate(across(PC_Water_EXO, ~replace_na(., mean(., na.rm = T))))\n",
        "\n",
        "vp_17 <- vp_17 |>\n",
        "  mutate(across(pH_Water_EXO, ~replace_na(., mean(., na.rm = T))))\n",
        "\n",
        "vp_17 <- vp_17 |>\n",
        "  mutate(across(SpCond_Water_EXO, ~replace_na(., mean(., na.rm = T))))\n",
        "\n",
        "vp_17 <- vp_17 |>\n",
        "  mutate(across(Temperature_Water_EXO, ~replace_na(., mean(., na.rm = T))))"
      ],
      "metadata": {
        "id": "OrTn7P_nIOc1"
      },
      "execution_count": 364,
      "outputs": []
    },
    {
      "cell_type": "code",
      "source": [
        "vp_18 <- vp_18|>\n",
        "  select(-SensorDepth_Water_EXO, -Turbidity_Water_EXO)\n",
        "vp_18 <- vp_18|>select(-Site_Name)"
      ],
      "metadata": {
        "id": "U5rXl39tocn3"
      },
      "execution_count": 365,
      "outputs": []
    },
    {
      "cell_type": "code",
      "source": [
        "# Replace missing values with their means.\n",
        "\n",
        "vp_18 <- vp_18 |>\n",
        "  mutate(across(Chla_Water_EXO, ~replace_na(., mean(., na.rm=TRUE))))\n",
        "\n",
        "vp_18 <- vp_18 |>\n",
        "  mutate(across(DO.Sat_Water_EXO, ~replace_na(., mean(., na.rm = T))))\n",
        "\n",
        "vp_18 <- vp_18 |>\n",
        "  mutate(across(DO_Water_EXO, ~replace_na(., mean(., na.rm = T))))\n",
        "\n",
        "vp_18 <- vp_18 |>\n",
        "  mutate(across(PC_Water_EXO, ~replace_na(., mean(., na.rm = T))))\n",
        "\n",
        "vp_18 <- vp_18 |>\n",
        "  mutate(across(pH_Water_EXO, ~replace_na(., mean(., na.rm = T))))\n",
        "\n",
        "vp_18 <- vp_18 |>\n",
        "  mutate(across(SpCond_Water_EXO, ~replace_na(., mean(., na.rm = T))))\n",
        "\n",
        "vp_18 <- vp_18 |>\n",
        "  mutate(across(Temperature_Water_EXO, ~replace_na(., mean(., na.rm = T))))\n",
        "\n",
        "vp_18 <- vp_18 |>\n",
        "  mutate(across(fDOM_Water_EXO, ~replace_na(., mean(., na.rm = T))))"
      ],
      "metadata": {
        "id": "01FDeKKnYH20"
      },
      "execution_count": 366,
      "outputs": []
    },
    {
      "cell_type": "code",
      "source": [
        "colnames(vp_17)"
      ],
      "metadata": {
        "colab": {
          "base_uri": "https://localhost:8080/",
          "height": 34
        },
        "id": "N0IVWIlzm9M-",
        "outputId": "66f5e54c-6e75-4110-8fb5-bb6104a149ae"
      },
      "execution_count": 367,
      "outputs": [
        {
          "output_type": "display_data",
          "data": {
            "text/html": [
              "<style>\n",
              ".list-inline {list-style: none; margin:0; padding: 0}\n",
              ".list-inline>li {display: inline-block}\n",
              ".list-inline>li:not(:last-child)::after {content: \"\\00b7\"; padding: 0 .5ex}\n",
              "</style>\n",
              "<ol class=list-inline><li>'PC_Water_EXO'</li><li>'Chla_Water_EXO'</li><li>'DateTime'</li><li>'DO_Water_EXO'</li><li>'DO.Sat_Water_EXO'</li><li>'SpCond_Water_EXO'</li><li>'Temperature_Water_EXO'</li><li>'pH_Water_EXO'</li><li>'fDOM.TC_Water_EXO'</li></ol>\n"
            ],
            "text/markdown": "1. 'PC_Water_EXO'\n2. 'Chla_Water_EXO'\n3. 'DateTime'\n4. 'DO_Water_EXO'\n5. 'DO.Sat_Water_EXO'\n6. 'SpCond_Water_EXO'\n7. 'Temperature_Water_EXO'\n8. 'pH_Water_EXO'\n9. 'fDOM.TC_Water_EXO'\n\n\n",
            "text/latex": "\\begin{enumerate*}\n\\item 'PC\\_Water\\_EXO'\n\\item 'Chla\\_Water\\_EXO'\n\\item 'DateTime'\n\\item 'DO\\_Water\\_EXO'\n\\item 'DO.Sat\\_Water\\_EXO'\n\\item 'SpCond\\_Water\\_EXO'\n\\item 'Temperature\\_Water\\_EXO'\n\\item 'pH\\_Water\\_EXO'\n\\item 'fDOM.TC\\_Water\\_EXO'\n\\end{enumerate*}\n",
            "text/plain": [
              "[1] \"PC_Water_EXO\"          \"Chla_Water_EXO\"        \"DateTime\"             \n",
              "[4] \"DO_Water_EXO\"          \"DO.Sat_Water_EXO\"      \"SpCond_Water_EXO\"     \n",
              "[7] \"Temperature_Water_EXO\" \"pH_Water_EXO\"          \"fDOM.TC_Water_EXO\"    "
            ]
          },
          "metadata": {}
        }
      ]
    },
    {
      "cell_type": "code",
      "source": [
        "colnames(vp_19)"
      ],
      "metadata": {
        "colab": {
          "base_uri": "https://localhost:8080/",
          "height": 34
        },
        "id": "Ck1QriyInIPz",
        "outputId": "c418c723-b4ad-4a4f-efb4-e8a4d53a2d75"
      },
      "execution_count": 368,
      "outputs": [
        {
          "output_type": "display_data",
          "data": {
            "text/html": [
              "<style>\n",
              ".list-inline {list-style: none; margin:0; padding: 0}\n",
              ".list-inline>li {display: inline-block}\n",
              ".list-inline>li:not(:last-child)::after {content: \"\\00b7\"; padding: 0 .5ex}\n",
              "</style>\n",
              "<ol class=list-inline><li>'DateTime'</li><li>'Site_Name'</li><li>'Chla_Water_EXO'</li><li>'SensorDepth_Water_EXO'</li><li>'DO_Water_EXO'</li><li>'DO.Sat_Water_EXO'</li><li>'SpCond_Water_EXO'</li><li>'Temperature_Water_EXO'</li><li>'Turbidity_Water_EXO'</li><li>'pH_Water_EXO'</li><li>'PC_Water_EXO'</li><li>'fDOM_Water_EXO'</li><li>'VerticalPosition_Water_EXO'</li></ol>\n"
            ],
            "text/markdown": "1. 'DateTime'\n2. 'Site_Name'\n3. 'Chla_Water_EXO'\n4. 'SensorDepth_Water_EXO'\n5. 'DO_Water_EXO'\n6. 'DO.Sat_Water_EXO'\n7. 'SpCond_Water_EXO'\n8. 'Temperature_Water_EXO'\n9. 'Turbidity_Water_EXO'\n10. 'pH_Water_EXO'\n11. 'PC_Water_EXO'\n12. 'fDOM_Water_EXO'\n13. 'VerticalPosition_Water_EXO'\n\n\n",
            "text/latex": "\\begin{enumerate*}\n\\item 'DateTime'\n\\item 'Site\\_Name'\n\\item 'Chla\\_Water\\_EXO'\n\\item 'SensorDepth\\_Water\\_EXO'\n\\item 'DO\\_Water\\_EXO'\n\\item 'DO.Sat\\_Water\\_EXO'\n\\item 'SpCond\\_Water\\_EXO'\n\\item 'Temperature\\_Water\\_EXO'\n\\item 'Turbidity\\_Water\\_EXO'\n\\item 'pH\\_Water\\_EXO'\n\\item 'PC\\_Water\\_EXO'\n\\item 'fDOM\\_Water\\_EXO'\n\\item 'VerticalPosition\\_Water\\_EXO'\n\\end{enumerate*}\n",
            "text/plain": [
              " [1] \"DateTime\"                   \"Site_Name\"                 \n",
              " [3] \"Chla_Water_EXO\"             \"SensorDepth_Water_EXO\"     \n",
              " [5] \"DO_Water_EXO\"               \"DO.Sat_Water_EXO\"          \n",
              " [7] \"SpCond_Water_EXO\"           \"Temperature_Water_EXO\"     \n",
              " [9] \"Turbidity_Water_EXO\"        \"pH_Water_EXO\"              \n",
              "[11] \"PC_Water_EXO\"               \"fDOM_Water_EXO\"            \n",
              "[13] \"VerticalPosition_Water_EXO\""
            ]
          },
          "metadata": {}
        }
      ]
    },
    {
      "cell_type": "code",
      "source": [
        "vp_19 <- vp_19|>select(-SensorDepth_Water_EXO, -VerticalPosition_Water_EXO, -Turbidity_Water_EXO, -Site_Name)"
      ],
      "metadata": {
        "id": "4zELs3BNnQVV"
      },
      "execution_count": 369,
      "outputs": []
    },
    {
      "cell_type": "code",
      "source": [
        "vp_19 <- vp_19 |>\n",
        "  mutate(across(Chla_Water_EXO, ~replace_na(., mean(., na.rm=TRUE))))\n",
        "\n",
        "vp_19 <- vp_19 |>\n",
        "  mutate(across(DO_Water_EXO, ~replace_na(., mean(., na.rm=TRUE))))\n",
        "\n",
        "vp_19 <- vp_19 |>\n",
        "  mutate(across(DO.Sat_Water_EXO, ~replace_na(., mean(., na.rm=TRUE))))\n",
        "\n",
        "vp_19 <- vp_19 |>\n",
        "  mutate(across(SpCond_Water_EXO, ~replace_na(., mean(., na.rm=TRUE))))\n",
        "\n",
        "vp_19 <- vp_19 |>\n",
        "  mutate(across(Temperature_Water_EXO, ~replace_na(., mean(., na.rm=TRUE))))\n",
        "\n",
        "vp_19 <- vp_19 |>\n",
        "  mutate(across(pH_Water_EXO, ~replace_na(., mean(., na.rm=TRUE))))\n",
        "\n",
        "vp_19 <- vp_19 |>\n",
        "  mutate(across(PC_Water_EXO, ~replace_na(., mean(., na.rm=TRUE))))\n",
        "\n",
        "vp_19 <- vp_19 |>\n",
        "  mutate(across(fDOM_Water_EXO, ~replace_na(., mean(., na.rm=TRUE))))"
      ],
      "metadata": {
        "id": "L9AqZaw5pUJW"
      },
      "execution_count": 370,
      "outputs": []
    },
    {
      "cell_type": "code",
      "source": [
        "vp_17 <- vp_17|>rename(rel_fl=fDOM.TC_Water_EXO)\n",
        "vp_18 <- vp_18|>rename(rel_fl=fDOM_Water_EXO)\n",
        "vp_19 <- vp_19|>rename(rel_fl=fDOM_Water_EXO)"
      ],
      "metadata": {
        "id": "TxvaDOaJnpjQ"
      },
      "execution_count": 371,
      "outputs": []
    },
    {
      "cell_type": "code",
      "source": [
        "# Combine the 3 dataframes..\n",
        "vp_df <- rbind(vp_17, vp_18, vp_19)"
      ],
      "metadata": {
        "id": "pUHAYC7qqz5r"
      },
      "execution_count": 434,
      "outputs": []
    },
    {
      "cell_type": "code",
      "source": [
        "vp_df <- vp_df|>na.omit()"
      ],
      "metadata": {
        "id": "ei4isbaOu0M3"
      },
      "execution_count": 435,
      "outputs": []
    },
    {
      "cell_type": "code",
      "source": [
        "get_date = function(d){\n",
        "  return(unlist(str_split_1(d|>toString(), pattern = ' '))[1])\n",
        "}"
      ],
      "metadata": {
        "id": "4kbarQE5yrtB"
      },
      "execution_count": 395,
      "outputs": []
    },
    {
      "cell_type": "code",
      "source": [
        "extract_from_date_time<-function(d, pos=1){\n",
        "  return(unlist(str_split_1(toString(d), pattern = '/'))[pos])\n",
        "}\n",
        "\n",
        "extract_day <- function(d){\n",
        "  extract_from_date_time(d, 2)|>as.character()\n",
        "}\n",
        "\n",
        "extract_month <- function(d){\n",
        "  extract_from_date_time(d, 1)|>as.character()\n",
        "}\n",
        "\n",
        "extract_year <- function(d){\n",
        "  extract_from_date_time(d, 3)|>as.character()\n",
        "}"
      ],
      "metadata": {
        "id": "PAuXvSNlIEY5"
      },
      "execution_count": 439,
      "outputs": []
    },
    {
      "cell_type": "code",
      "source": [
        "# club per day values by mean\n",
        "vp_df_daily <- vp_df|>\n",
        "  group_by(DateTime)|>\n",
        "  summarise(\n",
        "    PC_Water_EXO = mean(PC_Water_EXO),\n",
        "    Chla_Water_EXO = mean(Chla_Water_EXO),\n",
        "    DO_Water_EXO = mean(DO_Water_EXO),\n",
        "    DO.Sat_Water_EXO = mean(DO.Sat_Water_EXO),\n",
        "    SpCond_Water_EXO = mean(SpCond_Water_EXO),\n",
        "    Temperature_Water_EXO = mean(Temperature_Water_EXO),\n",
        "    pH_Water_EXO = mean(pH_Water_EXO),\n",
        "    rel_fl = mean(rel_fl)\n",
        "    )|>ungroup()"
      ],
      "metadata": {
        "id": "JDGtegfNGOqc"
      },
      "execution_count": 441,
      "outputs": []
    },
    {
      "cell_type": "code",
      "source": [
        "vp_df_daily <- vp_df_daily|>mutate(\n",
        "  day = lapply(DateTime, extract_day)|>as.integer(),\n",
        "  month = lapply(DateTime, extract_month)|>as.integer(),\n",
        "  year = lapply(DateTime, extract_year)|>as.integer()\n",
        "  )"
      ],
      "metadata": {
        "id": "-jASznBgDubH"
      },
      "execution_count": 442,
      "outputs": []
    }
  ]
}